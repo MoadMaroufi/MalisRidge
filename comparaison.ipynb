{
 "cells": [
  {
   "cell_type": "code",
   "execution_count": 10,
   "metadata": {},
   "outputs": [],
   "source": [
    "from sklearn.datasets import fetch_california_housing\n",
    "from sklearn.model_selection import train_test_split\n",
    "from sklearn.linear_model import Ridge\n",
    "from sklearn.metrics import mean_squared_error\n",
    "from ridge import RidgeRegression# import pandas module\n",
    "import pandas as pd\n"
   ]
  },
  {
   "cell_type": "code",
   "execution_count": null,
   "metadata": {},
   "outputs": [],
   "source": [
    "# Fetching the California housing dataset\n",
    "california = fetch_california_housing()\n",
    "X, y = california.data, california.target"
   ]
  },
  {
   "cell_type": "code",
   "execution_count": 2,
   "metadata": {},
   "outputs": [],
   "source": [
    "from sklearn.model_selection import train_test_split\n",
    "X_train, X_test, y_train, y_test = train_test_split(X, y, test_size=0.2, random_state=42)\n"
   ]
  },
  {
   "cell_type": "code",
   "execution_count": 8,
   "metadata": {},
   "outputs": [
    {
     "name": "stdout",
     "output_type": "stream",
     "text": [
      "Custom Model MSE: 0.5558034669931597\n",
      "Scikit-learn Model MSE: 0.5558034669932196\n"
     ]
    }
   ],
   "source": [
    "# Your custom Ridge Regression\n",
    "custom_model = RidgeRegression(alpha=1.0,solver=\"cholesky\")\n",
    "custom_model.fit(X_train, y_train)\n",
    "custom_predictions = custom_model.predict(X_test)\n",
    "custom_mse = mean_squared_error(y_test, custom_predictions)\n",
    "\n",
    "# Scikit-learn's Ridge Regression\n",
    "sklearn_model = Ridge(alpha=1.0)\n",
    "sklearn_model.fit(X_train, y_train)\n",
    "sklearn_predictions = sklearn_model.predict(X_test)\n",
    "sklearn_mse = mean_squared_error(y_test, sklearn_predictions)\n",
    "\n",
    "print(\"Custom Model MSE:\", custom_mse)\n",
    "print(\"Scikit-learn Model MSE:\", sklearn_mse)\n"
   ]
  },
  {
   "cell_type": "markdown",
   "metadata": {},
   "source": [
    "Now Lets test on the olympic dataset"
   ]
  },
  {
   "cell_type": "code",
   "execution_count": 17,
   "metadata": {},
   "outputs": [
    {
     "data": {
      "text/plain": [
       "0.05226843207053158"
      ]
     },
     "execution_count": 17,
     "metadata": {},
     "output_type": "execute_result"
    }
   ],
   "source": [
    "df = pd.read_csv(\"Olympic.csv\")\n",
    "\n",
    "# Assuming we want to use the last 5 data points as test set\n",
    "train_df = df[:-3]\n",
    "test_df = df[-3:]\n",
    "\n",
    "# Extract features and target\n",
    "X_train = train_df[['Year']].values\n",
    "y_train = train_df['Time'].values\n",
    "X_test = test_df[['Year']].values\n",
    "y_test = test_df['Time'].values\n",
    "\n",
    "\n",
    "# Initialize and fit the custom Ridge Regression model\n",
    "model = RidgeRegression(alpha=1.0, solver='cholesky')\n",
    "model.fit(X_train, y_train)\n",
    "\n",
    "# Predictions and evaluation\n",
    "predictions = model.predict(X_test)\n",
    "mse = mean_squared_error(y_test, predictions)\n",
    "mse"
   ]
  },
  {
   "cell_type": "code",
   "execution_count": 19,
   "metadata": {},
   "outputs": [
    {
     "data": {
      "text/plain": [
       "0.052268432069848825"
      ]
     },
     "execution_count": 19,
     "metadata": {},
     "output_type": "execute_result"
    }
   ],
   "source": [
    "# Initialize and fit the custom Ridge Regression model\n",
    "model = Ridge(alpha=1.0, solver='cholesky')\n",
    "model.fit(X_train, y_train)\n",
    "\n",
    "# Predictions and evaluation\n",
    "predictions = model.predict(X_test)\n",
    "mse = mean_squared_error(y_test, predictions)\n",
    "mse"
   ]
  }
 ],
 "metadata": {
  "kernelspec": {
   "display_name": "Python 3",
   "language": "python",
   "name": "python3"
  },
  "language_info": {
   "codemirror_mode": {
    "name": "ipython",
    "version": 3
   },
   "file_extension": ".py",
   "mimetype": "text/x-python",
   "name": "python",
   "nbconvert_exporter": "python",
   "pygments_lexer": "ipython3",
   "version": "3.9.6"
  }
 },
 "nbformat": 4,
 "nbformat_minor": 2
}
